{
 "cells": [
  {
   "cell_type": "markdown",
   "metadata": {},
   "source": [
    "# Getting started with Python 3"
   ]
  },
  {
   "cell_type": "markdown",
   "metadata": {},
   "source": [
    "### 25. Accessing Elements of Lists\n",
    "\n",
    "ordinal numbers: starts with 1 \n",
    "\n",
    "cardinal numbers: starts with 0"
   ]
  },
  {
   "cell_type": "code",
   "execution_count": null,
   "metadata": {},
   "outputs": [],
   "source": [
    "animals = ['bears', 'tigers', 'penguins', 'zebra']\n",
    "bears = animals[0]\n",
    "print(bears)"
   ]
  },
  {
   "cell_type": "markdown",
   "metadata": {},
   "source": [
    "### 26. Branches & Functions"
   ]
  },
  {
   "cell_type": "code",
   "execution_count": null,
   "metadata": {},
   "outputs": [],
   "source": [
    "from sys import exit\n",
    "\n",
    "def gold_room():\n",
    "    print(\"This room is full of gold. How much do you take?\")\n",
    "    \n",
    "    choice = input(\"> \")\n",
    "    \n",
    "    if \"0\" in choice or \"1\" in choice:\n",
    "        how_much = int(choice)\n",
    "    else:\n",
    "        dead(\"Man, learn to type a number..!\")\n",
    "        \n",
    "    if how_much < 50:\n",
    "        print(\"Nice you're not greedy. You win!\")\n",
    "        exit(0)\n",
    "    else:\n",
    "        dead(\"You greedy bastard!\")\n",
    "        \n",
    "def bear_room():\n",
    "    print(\"There is a bear here\")\n",
    "    print(\"The bear has a bunch of honey\")\n",
    "    print(\"The fat bear is in front of another door\")\n",
    "    print(\"How are you going to move the bear?\")\n",
    "    \n",
    "    bear_moved = False\n",
    "    \n",
    "    while True:\n",
    "        choice = input(\"> \")\n",
    "        \n",
    "        if choice == \"take honey\":\n",
    "            dead(\"The bear looks at you and then slaps your face\")\n",
    "        elif choice == \"taunt bear\" and not bear_moved:\n",
    "            print(\"The bear has moved from the door.\")\n",
    "            print(\"You can go through it now\")\n",
    "            bear_moved = True\n",
    "        elif choice == \"taunt bear\" and bear_moved:\n",
    "            print(\"The bear gets pissed off and chews your legs\")\n",
    "        elif choice == \"open door\" and bear_moved:\n",
    "            gold_room()\n",
    "        else:\n",
    "            print(\"I got no idea what that means\")\n",
    "            \n",
    "def cthulhu_room():\n",
    "    print(\"Here you see the great evil Cthulhu.\")\n",
    "    print(\"He, it, whatever stares at you and you go insane\")\n",
    "    print(\"Do you flee for your life or eat your head?\")\n",
    "    \n",
    "    choice = input(\"> \")\n",
    "    \n",
    "    if \"flee\" in choice:\n",
    "        start()\n",
    "    elif \"head\" in choice:\n",
    "        dead(\"Well, that's tasty!\")\n",
    "    else:\n",
    "        cthulhu_room()\n",
    "\n",
    "def dead(why):\n",
    "    print(why, \"Good Job!\")\n",
    "    exit(0)\n",
    "\n",
    "def start():\n",
    "    print(\"You are in a dark room.\")\n",
    "    print(\"There is a door to your right and left\")\n",
    "    print(\"Which one do you take?\")\n",
    "    \n",
    "    choice = input(\"> \")\n",
    "    \n",
    "    if choice == \"left\":\n",
    "        bear_room()\n",
    "    elif choice == \"right\":\n",
    "        cthulhu_room()\n",
    "    else:\n",
    "        dead(\"You stumble around the room until you starve to death\")\n",
    "\n",
    "start()"
   ]
  },
  {
   "cell_type": "markdown",
   "metadata": {},
   "source": [
    "### 27. Doing things to Lists"
   ]
  },
  {
   "cell_type": "code",
   "execution_count": null,
   "metadata": {},
   "outputs": [],
   "source": [
    "ten_things = \"Apples Oranges Crows Telephone Light Sugar\"\n",
    "\n",
    "print(\"Wait, there are not ten things in that list. Let's fix...\")\n",
    "\n",
    "stuff = ten_things.split(\" \")\n",
    "more_stuff = [\"Day\", \"Night\", \"Song\", \"Frisbee\", \"Corn\", \"Banana\", \"Girl\", \"Boy\"]\n",
    "\n",
    "while len(stuff) != 10:\n",
    "    next_one = more_stuff.pop()\n",
    "    print(\"Adding: \", next_one)\n",
    "    stuff.append(next_one)\n",
    "    print(f\"There are {len(stuff)} items now.\")\n",
    "    \n",
    "print(\"There we go: \", stuff)\n",
    "\n",
    "print(\"Let's do something with stuff\")\n",
    "\n",
    "print(stuff[1])\n",
    "print(stuff[-1]) # negative indexing\n",
    "print(stuff.pop())\n",
    "print(\" \".join(stuff))\n",
    "print(\"#\".join(stuff[3:5]))"
   ]
  },
  {
   "cell_type": "markdown",
   "metadata": {},
   "source": [
    "### 28. Dictionaries"
   ]
  },
  {
   "cell_type": "code",
   "execution_count": null,
   "metadata": {},
   "outputs": [],
   "source": [
    "# creating a mapping of state to abbrevation states\n",
    "\n",
    "states = {\n",
    "    'Karnataka': 'KA',\n",
    "    'TamilNadu': 'TN',\n",
    "    'Kerala': 'KL',\n",
    "    'AndhraPradesh': 'AP',\n",
    "    'Maharashtra': 'MH'\n",
    "}\n",
    "\n",
    "# creating a basic set of states and some cities in them\n",
    "\n",
    "cities = {\n",
    "    'TN': 'Coimbatore',\n",
    "    'KA': 'Bangalore',\n",
    "    'KL': 'Trivandrum'\n",
    "}\n",
    "\n",
    "# add some more cities\n",
    "\n",
    "cities['AP'] = 'Tirupati'\n",
    "cities['MH'] = 'Mumbai'\n",
    "\n",
    "# print out some cities\n",
    "\n",
    "print(\"-\" * 20)\n",
    "print(\"KA State has: \", cities['KA'])\n",
    "print(\"TN State has: \", cities['TN'])\n",
    "\n",
    "# print some states\n",
    "\n",
    "print(\"-\" * 20)\n",
    "print(\"Kerala's abbrevation is: \", states['Kerala'])\n",
    "print(\"Andhra Pradesh's abbrevation is: \", states['AndhraPradesh'])\n",
    "\n",
    "# doing the same by using the states then cities dict\n",
    "\n",
    "print(\"-\" * 20)\n",
    "print(\"Maharashtra has: \", cities[states['Maharashtra']])\n",
    "print(\"Karnataka has: \", cities[states['Karnataka']])\n",
    "\n",
    "# print every state abbrevation\n",
    "\n",
    "print(\"-\" * 20)\n",
    "for state, abbrev in list(states.items()):\n",
    "    print(f\"{state} is abbrevated as {abbrev}\")\n",
    "    \n",
    "# print every city in state\n",
    "\n",
    "print(\"-\" * 20)\n",
    "for abbrev, city in list(cities.items()):\n",
    "    print(f\"{abbrev} has the city {city}\")\n",
    "    \n",
    "# doing both at the same time\n",
    "\n",
    "print(\"-\" * 20)\n",
    "for state, abbrev in list(states.items()):\n",
    "    print(f\"{state} state is abbrevated as {abbrev}\")\n",
    "    print(f\"and has the city {cities[abbrev]}\")\n",
    "    \n",
    "print(\"-\" * 20)\n",
    "# safely get an abbrevation by state that might not be there\n",
    "state = states.get(\"Jammu\")\n",
    "if not state:\n",
    "    print(\"Sorry, no Jammu\")\n",
    "    \n",
    "# get a city with a default value\n",
    "city = cities.get(\"XX\", 'Does Not Exist')\n",
    "print(f\"The city for the state 'XX' is : {city}\")\n",
    "\n",
    "#for a in states.keys():\n",
    "#    print(a)"
   ]
  },
  {
   "cell_type": "markdown",
   "metadata": {},
   "source": [
    "### 29. Modules, Classes & Objects\n",
    "\n",
    "When you instantiate a class, what we get is an object"
   ]
  },
  {
   "cell_type": "code",
   "execution_count": null,
   "metadata": {},
   "outputs": [],
   "source": []
  },
  {
   "cell_type": "code",
   "execution_count": null,
   "metadata": {},
   "outputs": [],
   "source": []
  },
  {
   "cell_type": "code",
   "execution_count": null,
   "metadata": {},
   "outputs": [],
   "source": []
  }
 ],
 "metadata": {
  "kernelspec": {
   "display_name": "Python 3",
   "language": "python",
   "name": "python3"
  },
  "language_info": {
   "codemirror_mode": {
    "name": "ipython",
    "version": 3
   },
   "file_extension": ".py",
   "mimetype": "text/x-python",
   "name": "python",
   "nbconvert_exporter": "python",
   "pygments_lexer": "ipython3",
   "version": "3.7.6"
  }
 },
 "nbformat": 4,
 "nbformat_minor": 4
}
