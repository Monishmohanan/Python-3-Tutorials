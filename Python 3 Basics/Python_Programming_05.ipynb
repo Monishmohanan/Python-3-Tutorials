{
 "cells": [
  {
   "cell_type": "markdown",
   "metadata": {},
   "source": [
    "# Getting started with Python 3"
   ]
  },
  {
   "cell_type": "markdown",
   "metadata": {},
   "source": [
    "## OS module\n",
    "\n",
    "Provides a way of using operating system dependent functionality\n",
    "\n",
    "https://docs.python.org/3/library/os.html"
   ]
  },
  {
   "cell_type": "markdown",
   "metadata": {},
   "source": [
    "### 1. os.name"
   ]
  },
  {
   "cell_type": "code",
   "execution_count": null,
   "metadata": {},
   "outputs": [],
   "source": [
    "import os\n",
    "print(os.name) # gives the name of the operating system dependent module imported"
   ]
  },
  {
   "cell_type": "markdown",
   "metadata": {},
   "source": [
    "### 2. os.getcwd()"
   ]
  },
  {
   "cell_type": "code",
   "execution_count": null,
   "metadata": {},
   "outputs": [],
   "source": [
    "import os\n",
    "print(os.getcwd()) # gives the current working directory "
   ]
  },
  {
   "cell_type": "markdown",
   "metadata": {},
   "source": [
    "### 3. os.error()"
   ]
  },
  {
   "cell_type": "code",
   "execution_count": null,
   "metadata": {},
   "outputs": [],
   "source": [
    "import os\n",
    "try:\n",
    "    filename = 'monday.txt'\n",
    "    f = open(filename, 'r')\n",
    "    text = f.read()\n",
    "    f.close()\n",
    "except IOError:\n",
    "    print(\"Problem reading: \" + filename)"
   ]
  },
  {
   "cell_type": "markdown",
   "metadata": {},
   "source": [
    "### 4. os.rename()"
   ]
  },
  {
   "cell_type": "code",
   "execution_count": null,
   "metadata": {},
   "outputs": [],
   "source": [
    "import os\n",
    "file = 'monish.txt'\n",
    "with open(file, 'w+') as f:\n",
    "    f.close()\n",
    "os.rename(file, 'new_file.txt')"
   ]
  },
  {
   "cell_type": "markdown",
   "metadata": {},
   "source": [
    "### 5. os.listdir()"
   ]
  },
  {
   "cell_type": "code",
   "execution_count": null,
   "metadata": {},
   "outputs": [],
   "source": [
    "import os\n",
    "print(os.listdir()) # lists the directories inside the present working directory (returns a list)\n",
    "\n",
    "print(os.listdir('new_folder/'))"
   ]
  },
  {
   "cell_type": "markdown",
   "metadata": {},
   "source": [
    "### 6. os.scandir()"
   ]
  },
  {
   "cell_type": "code",
   "execution_count": null,
   "metadata": {},
   "outputs": [],
   "source": [
    "import os\n",
    "\n",
    "with os.scandir() as entries:    # returns an iterator\n",
    "    for entry in entries:\n",
    "        print(entry.name)\n",
    "        \n",
    "    #print(type(entries))"
   ]
  },
  {
   "cell_type": "markdown",
   "metadata": {},
   "source": [
    "### 7. os.mkdir()"
   ]
  },
  {
   "cell_type": "code",
   "execution_count": null,
   "metadata": {},
   "outputs": [],
   "source": [
    "import os\n",
    "os.mkdir(\"newFolder\")  # creates a new directory"
   ]
  },
  {
   "cell_type": "markdown",
   "metadata": {},
   "source": [
    "### 8. os.rmdir()"
   ]
  },
  {
   "cell_type": "code",
   "execution_count": null,
   "metadata": {},
   "outputs": [],
   "source": [
    "import os\n",
    "os.rmdir('newFolder') # deletes a directory"
   ]
  },
  {
   "cell_type": "markdown",
   "metadata": {},
   "source": [
    "### 9. os.path.join(path, *paths)\n",
    "\n",
    "Returns a string which represents the concatenated path components"
   ]
  },
  {
   "cell_type": "code",
   "execution_count": null,
   "metadata": {},
   "outputs": [],
   "source": [
    "import os \n",
    "\n",
    "path = '/new_folder'\n",
    "\n",
    "print(os.path.join(path, \"temp\", \"newfile.txt\"))\n",
    "\n",
    "#print(os.path.exists(path))\n",
    "print(os.path.abspath(path)) #creates an absolute path\n",
    "print(os.path.isabs(path)) # checks for absolute path and returns a boolean value"
   ]
  },
  {
   "cell_type": "markdown",
   "metadata": {},
   "source": [
    "### 10. os.path.split(path)\n",
    "\n",
    "split the pathname into a pair of (head, tail)"
   ]
  },
  {
   "cell_type": "code",
   "execution_count": null,
   "metadata": {},
   "outputs": [],
   "source": [
    "head, tail = os.path.split(os.getcwd()) \n",
    "print(head)\n",
    "print(tail)"
   ]
  },
  {
   "cell_type": "markdown",
   "metadata": {},
   "source": [
    "### 11. os.path.isdir()\n",
    "\n",
    "returns a boolean value based on whether the path is a directory or not"
   ]
  },
  {
   "cell_type": "code",
   "execution_count": null,
   "metadata": {},
   "outputs": [],
   "source": [
    "path = 'new_folder'\n",
    "print(os.path.isdir(path))\n",
    "#print(os.path.isdir(os.getcwd()))\n",
    "#os.path.isdir(os.getcwd()+'Python_Programming_01.ipynb')"
   ]
  },
  {
   "cell_type": "markdown",
   "metadata": {},
   "source": [
    "## shutil module\n",
    "\n",
    "The shutil module offers a number of high-level operations on files and collections of files. \n",
    "\n",
    "In particular, functions are provided which support file copying and removal."
   ]
  },
  {
   "cell_type": "markdown",
   "metadata": {},
   "source": [
    "### 1. shutil.copyfile(src, dst)"
   ]
  },
  {
   "cell_type": "code",
   "execution_count": null,
   "metadata": {},
   "outputs": [],
   "source": [
    "import shutil\n",
    "src = r'C:\\Users\\OON1KOR\\Documents\\Python Programming\\test\\source\\file_1.txt'\n",
    "dst = r'C:\\Users\\OON1KOR\\Documents\\Python Programming\\test\\dest\\file_1.txt'\n",
    "shutil.copyfile(src, dst)"
   ]
  },
  {
   "cell_type": "markdown",
   "metadata": {},
   "source": [
    "### 2. shutil.copytree(src, dst, symlinks=False, ignore=None)"
   ]
  },
  {
   "cell_type": "code",
   "execution_count": null,
   "metadata": {},
   "outputs": [],
   "source": [
    "# remove the dest folder before trying\n",
    "import shutil\n",
    "src = r'C:\\Users\\OON1KOR\\Documents\\Python Programming\\test\\source'\n",
    "dst = r'C:\\Users\\OON1KOR\\Documents\\Python Programming\\test\\dest'\n",
    "shutil.copytree(src, dst, symlinks=False, ignore=None)"
   ]
  },
  {
   "cell_type": "markdown",
   "metadata": {},
   "source": [
    "### 3. Copying files and folders recursively"
   ]
  },
  {
   "cell_type": "code",
   "execution_count": 3,
   "metadata": {},
   "outputs": [],
   "source": [
    "import shutil\n",
    "import os\n",
    "source = r'C:\\Users\\OON1KOR\\Documents\\Python Programming\\test\\source'\n",
    "dest = r'C:\\Users\\OON1KOR\\Documents\\Python Programming\\test\\dest'\n",
    "for item in os.listdir(source):\n",
    "    s = os.path.join(source, item)\n",
    "    d = os.path.join(dest, item)\n",
    "    if os.path.isdir(s):\n",
    "        shutil.copytree(s, d, symlinks = False, ignore=None)\n",
    "    else:\n",
    "        shutil.copy2(s, d)  # for copying the file"
   ]
  }
 ],
 "metadata": {
  "kernelspec": {
   "display_name": "Python 3",
   "language": "python",
   "name": "python3"
  },
  "language_info": {
   "codemirror_mode": {
    "name": "ipython",
    "version": 3
   },
   "file_extension": ".py",
   "mimetype": "text/x-python",
   "name": "python",
   "nbconvert_exporter": "python",
   "pygments_lexer": "ipython3",
   "version": "3.6.3"
  }
 },
 "nbformat": 4,
 "nbformat_minor": 2
}
