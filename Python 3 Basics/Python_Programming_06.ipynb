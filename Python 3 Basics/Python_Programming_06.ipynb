{
 "cells": [
  {
   "cell_type": "markdown",
   "metadata": {},
   "source": [
    "# Getting started with Python 3"
   ]
  },
  {
   "cell_type": "markdown",
   "metadata": {},
   "source": [
    "## Working with MS-Excel (openpyxl module)"
   ]
  },
  {
   "cell_type": "markdown",
   "metadata": {},
   "source": [
    "### 1. Write a workbook"
   ]
  },
  {
   "cell_type": "code",
   "execution_count": 5,
   "metadata": {},
   "outputs": [],
   "source": [
    "from openpyxl import Workbook\n",
    "\n",
    "wb = Workbook() \n",
    "\n",
    "ws1 = wb.active# grab active worksheet\n",
    "\n",
    "ws1.title = \"title_1\"\n",
    "\n",
    "ws1['A5'] = 45  # assigning data to cells\n",
    "\n",
    "ws1.append([1, 2, 3]) # rows can also be appended\n",
    "\n",
    "ws2 = wb.create_sheet(title = \"Monish\")\n",
    "\n",
    "ws2['B4'] = \"TEXT\"\n",
    "\n",
    "wb.save(\"sample.xlsx\")\n"
   ]
  },
  {
   "cell_type": "markdown",
   "metadata": {},
   "source": [
    "### 2. Read an existing workbook"
   ]
  },
  {
   "cell_type": "code",
   "execution_count": 6,
   "metadata": {},
   "outputs": [
    {
     "name": "stdout",
     "output_type": "stream",
     "text": [
      "TEXT\n"
     ]
    }
   ],
   "source": [
    "from openpyxl import load_workbook\n",
    "\n",
    "wb = load_workbook(filename = 'sample.xlsx')\n",
    "\n",
    "ws1 = wb['Monish']\n",
    "\n",
    "print(ws1['B4'].value)\n",
    "\n",
    "wb.close()"
   ]
  },
  {
   "cell_type": "markdown",
   "metadata": {},
   "source": [
    "### 3. Merge/ Unmerge cells"
   ]
  },
  {
   "cell_type": "code",
   "execution_count": 11,
   "metadata": {},
   "outputs": [],
   "source": [
    "from openpyxl.workbook import Workbook\n",
    "\n",
    "wb = Workbook()\n",
    "\n",
    "ws = wb.active\n",
    "\n",
    "ws.merge_cells('A1:G1')\n",
    "ws.unmerge_cells('A1:G1')\n",
    "\n",
    "# alternative\n",
    "ws.merge_cells(start_row = 2, start_column=1, end_row=4, end_column=4)\n",
    "ws.unmerge_cells(start_row=2, start_column=1, end_row=4, end_column=4)\n",
    "\n",
    "wb.save('hello.xlsx')"
   ]
  },
  {
   "cell_type": "markdown",
   "metadata": {},
   "source": [
    "### 4. Inserting an image"
   ]
  },
  {
   "cell_type": "code",
   "execution_count": 12,
   "metadata": {},
   "outputs": [],
   "source": [
    "from openpyxl import Workbook\n",
    "from openpyxl.drawing.image import Image\n",
    "\n",
    "wb = Workbook()\n",
    "ws = wb.active\n",
    "\n",
    "img = Image(r'C:\\Users\\OON1KOR\\Python\\KSS\\Chrysanthemum.jpg')\n",
    "\n",
    "ws.add_image(img, 'A1')\n",
    "wb.save('image.xlsx')"
   ]
  },
  {
   "cell_type": "markdown",
   "metadata": {},
   "source": [
    "### 5. Other methods"
   ]
  },
  {
   "cell_type": "code",
   "execution_count": 14,
   "metadata": {},
   "outputs": [],
   "source": [
    "from openpyxl import load_workbook\n",
    "\n",
    "wb = load_workbook(filename = 'sample.xlsx')\n",
    "\n",
    "sheet = wb.worksheets[0]\n",
    "\n",
    "sheet.cell(row=2, column=4).value = \"Hello\"\n",
    "\n",
    "wb.save('sample.xlsx')\n",
    "\n",
    "wb.close()"
   ]
  },
  {
   "cell_type": "markdown",
   "metadata": {},
   "source": [
    "## Working with MS-Word (docx module)"
   ]
  },
  {
   "cell_type": "code",
   "execution_count": 15,
   "metadata": {},
   "outputs": [],
   "source": []
  },
  {
   "cell_type": "code",
   "execution_count": null,
   "metadata": {},
   "outputs": [],
   "source": []
  }
 ],
 "metadata": {
  "kernelspec": {
   "display_name": "Python 3",
   "language": "python",
   "name": "python3"
  },
  "language_info": {
   "codemirror_mode": {
    "name": "ipython",
    "version": 3
   },
   "file_extension": ".py",
   "mimetype": "text/x-python",
   "name": "python",
   "nbconvert_exporter": "python",
   "pygments_lexer": "ipython3",
   "version": "3.6.3"
  }
 },
 "nbformat": 4,
 "nbformat_minor": 2
}
