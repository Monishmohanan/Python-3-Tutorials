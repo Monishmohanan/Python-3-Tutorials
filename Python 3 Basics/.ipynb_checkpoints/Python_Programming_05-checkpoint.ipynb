{
 "cells": [
  {
   "cell_type": "markdown",
   "metadata": {},
   "source": [
    "# Getting started with Python 3"
   ]
  },
  {
   "cell_type": "markdown",
   "metadata": {},
   "source": [
    "## OS module\n",
    "\n",
    "Provides a way of using operating system dependent functionality\n",
    "\n",
    "https://docs.python.org/3/library/os.html"
   ]
  },
  {
   "cell_type": "markdown",
   "metadata": {},
   "source": [
    "### 1. os.name"
   ]
  },
  {
   "cell_type": "code",
   "execution_count": 1,
   "metadata": {},
   "outputs": [
    {
     "name": "stdout",
     "output_type": "stream",
     "text": [
      "nt\n"
     ]
    }
   ],
   "source": [
    "import os\n",
    "print(os.name) # gives the name of the operating system dependent module imported"
   ]
  },
  {
   "cell_type": "markdown",
   "metadata": {},
   "source": [
    "### 2. os.getcwd()"
   ]
  },
  {
   "cell_type": "code",
   "execution_count": 2,
   "metadata": {},
   "outputs": [
    {
     "name": "stdout",
     "output_type": "stream",
     "text": [
      "C:\\Users\\OON1KOR\\Python\\KSS\n"
     ]
    }
   ],
   "source": [
    "import os\n",
    "print(os.getcwd()) # gives the current working directory "
   ]
  },
  {
   "cell_type": "markdown",
   "metadata": {},
   "source": [
    "### 3. os.error()"
   ]
  },
  {
   "cell_type": "code",
   "execution_count": 3,
   "metadata": {},
   "outputs": [
    {
     "name": "stdout",
     "output_type": "stream",
     "text": [
      "Problem reading: monday.txt\n"
     ]
    }
   ],
   "source": [
    "import os\n",
    "try:\n",
    "    filename = 'monday.txt'\n",
    "    f = open(filename, 'r')\n",
    "    text = f.read()\n",
    "    f.close()\n",
    "except IOError:\n",
    "    print(\"Problem reading: \" + filename)"
   ]
  },
  {
   "cell_type": "markdown",
   "metadata": {},
   "source": [
    "### 4. os.rename()"
   ]
  },
  {
   "cell_type": "code",
   "execution_count": 8,
   "metadata": {},
   "outputs": [],
   "source": [
    "import os\n",
    "file = 'monish.txt'\n",
    "with open(file, 'w+') as f:\n",
    "    f.close()\n",
    "os.rename(file, 'new_file.txt')"
   ]
  },
  {
   "cell_type": "markdown",
   "metadata": {},
   "source": [
    "### 5. os.listdir()"
   ]
  },
  {
   "cell_type": "code",
   "execution_count": 16,
   "metadata": {},
   "outputs": [
    {
     "name": "stdout",
     "output_type": "stream",
     "text": [
      "['.ipynb_checkpoints', 'monish.txt', 'new_file.txt', 'new_folder', 'Python_Programming_01.ipynb', 'Python_Programming_04.ipynb', 'Python_Programming_05.ipynb']\n",
      "[]\n"
     ]
    }
   ],
   "source": [
    "import os\n",
    "print(os.listdir()) # lists the directories inside the present working directory (returns a list)\n",
    "\n",
    "print(os.listdir('new_folder/'))"
   ]
  },
  {
   "cell_type": "markdown",
   "metadata": {},
   "source": [
    "### 6. os.scandir()"
   ]
  },
  {
   "cell_type": "code",
   "execution_count": 14,
   "metadata": {},
   "outputs": [
    {
     "name": "stdout",
     "output_type": "stream",
     "text": [
      ".ipynb_checkpoints\n",
      "monish.txt\n",
      "new_file.txt\n",
      "Python_Programming_01.ipynb\n",
      "Python_Programming_04.ipynb\n",
      "Python_Programming_05.ipynb\n",
      "<class 'nt.ScandirIterator'>\n"
     ]
    }
   ],
   "source": [
    "import os\n",
    "\n",
    "with os.scandir() as entries:    # returns an iterator\n",
    "    for entry in entries:\n",
    "        print(entry.name)\n",
    "        \n",
    "    #print(type(entries))"
   ]
  },
  {
   "cell_type": "markdown",
   "metadata": {},
   "source": [
    "### 7. os.path.join(path, *paths)"
   ]
  },
  {
   "cell_type": "code",
   "execution_count": 24,
   "metadata": {},
   "outputs": [
    {
     "name": "stdout",
     "output_type": "stream",
     "text": [
      "/new_folder\\temp\\newfile.txt\n"
     ]
    }
   ],
   "source": [
    "import os \n",
    "\n",
    "path = '/new_folder'\n",
    "\n",
    "print(os.path.join(path, \"temp\", \"newfile.txt\"))"
   ]
  },
  {
   "cell_type": "code",
   "execution_count": null,
   "metadata": {},
   "outputs": [],
   "source": []
  },
  {
   "cell_type": "code",
   "execution_count": null,
   "metadata": {},
   "outputs": [],
   "source": []
  }
 ],
 "metadata": {
  "kernelspec": {
   "display_name": "Python 3",
   "language": "python",
   "name": "python3"
  },
  "language_info": {
   "codemirror_mode": {
    "name": "ipython",
    "version": 3
   },
   "file_extension": ".py",
   "mimetype": "text/x-python",
   "name": "python",
   "nbconvert_exporter": "python",
   "pygments_lexer": "ipython3",
   "version": "3.7.6"
  }
 },
 "nbformat": 4,
 "nbformat_minor": 2
}
