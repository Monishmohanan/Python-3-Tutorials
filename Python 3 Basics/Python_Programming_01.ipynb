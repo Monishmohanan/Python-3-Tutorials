{
 "cells": [
  {
   "cell_type": "markdown",
   "metadata": {},
   "source": [
    "# Getting started with Python 3"
   ]
  },
  {
   "cell_type": "markdown",
   "metadata": {},
   "source": [
    "### 1. Printing"
   ]
  },
  {
   "cell_type": "code",
   "execution_count": null,
   "metadata": {},
   "outputs": [],
   "source": [
    "print(\"Hello World\")"
   ]
  },
  {
   "cell_type": "markdown",
   "metadata": {},
   "source": [
    "### 2. Comments & Pound Characters"
   ]
  },
  {
   "cell_type": "code",
   "execution_count": null,
   "metadata": {},
   "outputs": [],
   "source": [
    "# A comment, this is so you can read your program later\n",
    "# anything after the # is ignored by python\n",
    "print(\"The symbol # is ignored by the print function\")"
   ]
  },
  {
   "cell_type": "markdown",
   "metadata": {},
   "source": [
    "### 3. Numbers & Math"
   ]
  },
  {
   "cell_type": "markdown",
   "metadata": {},
   "source": [
    "Common operators: + plus, - minus, / slash, * asterisk, % percent, < less-than, > greater-than,\n",
    "<= less-than-equal, >= greater-than-equal"
   ]
  },
  {
   "cell_type": "code",
   "execution_count": null,
   "metadata": {},
   "outputs": [],
   "source": [
    "print(\"I will count the buses now\")\n",
    "print(\"Buses\", 20+30/6)\n",
    "print(\"Cars\", 100-25*3%4)\n",
    "print(\"Is 5 greater than 7?\", 5 > 7)\n",
    "print(5+3 < 5+5)"
   ]
  },
  {
   "cell_type": "markdown",
   "metadata": {},
   "source": [
    "### 4. Variables & Names"
   ]
  },
  {
   "cell_type": "code",
   "execution_count": null,
   "metadata": {},
   "outputs": [],
   "source": [
    "cars = 100 #integers\n",
    "space_in_a_car = 4.0 #floats / decimals\n",
    "drivers = 30\n",
    "passengers = 90\n",
    "cars_not_driven = cars - drivers\n",
    "cars_driven = drivers\n",
    "carpool_capacity = cars_driven * space_in_a_car\n",
    "car_driver = \"Mr. Robert\" #strings\n",
    "bus_driver = \"Mr. Leo\"\n",
    "\n",
    "print(\"There are\", cars, \"cars available\")\n",
    "print(\"There are only\", drivers, \"drivers available\")\n",
    "print(\"There will be\", cars_not_driven, \"empty cars today\")\n",
    "print(\"We have\", passengers, \"to carpool today.\")\n",
    "print(\"We can transport\", carpool_capacity, \"people today\")\n",
    "print(f\"The driver of the car is {car_driver}\")\n",
    "print(bus_driver, \"drives the bus\")"
   ]
  },
  {
   "cell_type": "markdown",
   "metadata": {},
   "source": [
    "### 5. String Formatting & Doc Strings"
   ]
  },
  {
   "cell_type": "code",
   "execution_count": null,
   "metadata": {},
   "outputs": [],
   "source": [
    "name = \"Mr. Rob\"\n",
    "age = 50\n",
    "score = 45.35568\n",
    "item_1 = \"Cheese \"\n",
    "item_2 = \"Burger\"\n",
    "total_item = item_1+item_2 #string concatenation\n",
    "\n",
    "print(\"The person responsible is %s\"%name)\n",
    "print(\"%s is %d years old\"%(name,age))\n",
    "print(\"His score is %0.2f\"%score)\n",
    "print(\"Finally the person's name is %s, his age is %d and his score is %0.2f\"%(name, age, score))\n",
    "print(\"\"\"I can print multiple lines here\n",
    "no matter how many times i hit enter \n",
    "it keeps on going forever\"\"\")\n",
    "print(total_item)\n",
    "print(\"*\" * 80)\n",
    "print(\"Mary had a little {}\".format(\"lamb\"))"
   ]
  },
  {
   "cell_type": "markdown",
   "metadata": {},
   "source": [
    "### 6. Escape Sequence"
   ]
  },
  {
   "cell_type": "markdown",
   "metadata": {},
   "source": [
    "Examples: \\t - tab, \\n - linefeed, \\\\' or \\\\\" - quotes, \\\\ - backslash"
   ]
  },
  {
   "cell_type": "code",
   "execution_count": null,
   "metadata": {},
   "outputs": [],
   "source": [
    "months = \"Jan\\nFeb\\nMar\\nApr\\nMay\\nJun\\nJul\\nAug\\nSep\\nOct\\nNov\\nDec\"\n",
    "sentence = \"\"\"I'll do a list now:\n",
    "\\t* Cat\n",
    "\\t* Dogs\n",
    "\\t* Fishes\"\"\"\n",
    "\n",
    "print(months)\n",
    "print(sentence,'\\n')\n",
    "print(\"I'm 6'2\\\" tall\")  #escape double-quote inside string\n",
    "print('I\\'m 6\\'2\" tall') #escape single-quote inside string"
   ]
  },
  {
   "cell_type": "markdown",
   "metadata": {},
   "source": [
    "### 7. Input Statements"
   ]
  },
  {
   "cell_type": "code",
   "execution_count": null,
   "metadata": {},
   "outputs": [],
   "source": [
    "print(\"How old are you?\", end=\"\")\n",
    "age = input()\n",
    "print(\"How tall are you?\", end=\" \")\n",
    "height = input()\n",
    "print(\"How much do you weigh?\", end=\" \")\n",
    "weight = input()\n",
    "\n",
    "print(f\"So you are {age} years old, {height} tall and {weight} kg heavy\")"
   ]
  },
  {
   "cell_type": "markdown",
   "metadata": {},
   "source": [
    "### 8. Parameters, Unpacking, Variables"
   ]
  },
  {
   "cell_type": "code",
   "execution_count": null,
   "metadata": {},
   "outputs": [],
   "source": [
    "from sys import argv  # modules, (adding features to your script from the python feature set)\n",
    "                      # argv holds the arguments you pass to your python script\n",
    "\n",
    "script, first, second, third = argv # unpacking the arguments and assigning it to the variables\n",
    "\n",
    "print(\"The script is called: \", script)\n",
    "print(\"Your first variable is: \", first)\n",
    "print(\"Your second variable is: \", second)\n",
    "print(\"Your third variable is: \", third)"
   ]
  },
  {
   "cell_type": "markdown",
   "metadata": {},
   "source": [
    "### 9. Prompting & Passing"
   ]
  },
  {
   "cell_type": "code",
   "execution_count": null,
   "metadata": {},
   "outputs": [],
   "source": [
    "from sys import argv\n",
    "\n",
    "script, user_name = argv\n",
    "prompt = '> '\n",
    "\n",
    "print(f\"Hi {user_name}, I'm the {script} script.\")\n",
    "print(\"I'd like to ask you a few questions.\")\n",
    "print(f\"Do you like me {user_name}?\")\n",
    "likes = input(prompt)\n",
    "\n",
    "print(f\"Where do you live, {user_name}?\")\n",
    "location = input(prompt)\n",
    "\n",
    "print(f\"\"\"\n",
    "Alright you said {likes} about liking me.\n",
    "You live in {location}. Nice!\n",
    "\"\"\")"
   ]
  },
  {
   "cell_type": "markdown",
   "metadata": {},
   "source": [
    "### 10. Reading Files"
   ]
  },
  {
   "cell_type": "code",
   "execution_count": null,
   "metadata": {},
   "outputs": [],
   "source": [
    "from sys import argv\n",
    "\n",
    "script, filename = argv\n",
    "\n",
    "txt = open(filename) #creates a file object \n",
    "\n",
    "print(f\"Here's your file...{filename}:\")\n",
    "print(txt.read())\n",
    "\n",
    "print(\"Type the filename again: \", end=\" \")\n",
    "file_again = input(\"> \")\n",
    "\n",
    "txt_again = open(file_again)\n",
    "print(txt_again.read())"
   ]
  },
  {
   "cell_type": "markdown",
   "metadata": {},
   "source": [
    "### 11. Reading & Writing Files\n",
    "\n",
    "close - closes the file\n",
    "\n",
    "read - reads the content of the file. You can assign the result to a variable\n",
    "\n",
    "readline - reads just one line of the text file\n",
    "\n",
    "truncate - empties the file\n",
    "\n",
    "write('something') - writes \"something\" to the file\n",
    "\n",
    "seek(0) - moves the read/write location to the beginning of the file"
   ]
  },
  {
   "cell_type": "code",
   "execution_count": null,
   "metadata": {},
   "outputs": [],
   "source": [
    "from sys import argv\n",
    "\n",
    "script, filename = argv\n",
    "\n",
    "print(f\"We're going to erase the {filename}.\")\n",
    "print(\"If you don't want that, hit CTRL-C (^C).\")\n",
    "print(\"If you do want that, hit RETURN\")\n",
    "\n",
    "input(\"?\")\n",
    "\n",
    "print(\"Opening the file...\")\n",
    "target = open(filename, 'w') #opening the file in write mode. use \"a\" for append\n",
    "\n",
    "print(\"Truncating the file. Good bye!\")\n",
    "target.truncate()\n",
    "\n",
    "print(\"Now I'm going to ask you for three lines...\")\n",
    "\n",
    "line1 = input(\"line 1: \")\n",
    "line2 = input(\"line 2: \")\n",
    "line3 = input(\"line 3: \")\n",
    "\n",
    "print(\"I'm going to write these to the file.\")\n",
    "\n",
    "target.write(line1)\n",
    "target.write('\\n')\n",
    "target.write(line2)\n",
    "target.write('\\n')\n",
    "target.write(line3)\n",
    "target.write('\\n')\n",
    "\n",
    "print(\"And finally we close it.\")\n",
    "target.close()"
   ]
  },
  {
   "cell_type": "markdown",
   "metadata": {},
   "source": [
    "### 12. Copying Files"
   ]
  },
  {
   "cell_type": "code",
   "execution_count": null,
   "metadata": {},
   "outputs": [],
   "source": [
    "from sys import argv\n",
    "from os.path import exists\n",
    "\n",
    "script, from_file, to_file = argv\n",
    "\n",
    "print(f\"copying from {from_file} to {to_file}\")\n",
    "\n",
    "in_file = open(from_file, 'r')\n",
    "in_data = in_file.read()\n",
    "\n",
    "print(f\"The input file is {len(in_data)} bytes long...\")\n",
    "\n",
    "print(\"Does the output file exists? \", exists(to_file))\n",
    "\n",
    "print(\"Ready, hit RETURN to continue, CTRL-C to abort.\")\n",
    "input()\n",
    "\n",
    "out_file = open(to_file, 'w')\n",
    "out_file.write(in_data)\n",
    "\n",
    "print(\"Allright! All done...\")\n",
    "in_file.close()\n",
    "out_file.close()"
   ]
  }
 ],
 "metadata": {
  "kernelspec": {
   "display_name": "Python 3",
   "language": "python",
   "name": "python3"
  },
  "language_info": {
   "codemirror_mode": {
    "name": "ipython",
    "version": 3
   },
   "file_extension": ".py",
   "mimetype": "text/x-python",
   "name": "python",
   "nbconvert_exporter": "python",
   "pygments_lexer": "ipython3",
   "version": "3.7.6"
  }
 },
 "nbformat": 4,
 "nbformat_minor": 2
}
