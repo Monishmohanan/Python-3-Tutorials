{
 "cells": [
  {
   "cell_type": "markdown",
   "metadata": {},
   "source": [
    "# Getting started with Python 3"
   ]
  },
  {
   "cell_type": "markdown",
   "metadata": {},
   "source": [
    "### 32. Inheritance vs Composition\n",
    "\n",
    "Inheritance: creates mechanism for you to have implied features in base classes\n",
    "\n",
    "Composition: gives you modules and capability to call functions in other classes"
   ]
  },
  {
   "cell_type": "code",
   "execution_count": null,
   "metadata": {},
   "outputs": [],
   "source": [
    "#-----------------Implicit inheritance-------------------------------\n",
    "\n",
    "class Parent(object):\n",
    "    def implicit(self):\n",
    "        print(\"PARENT implicit()\")\n",
    "        \n",
    "class Child(Parent):\n",
    "    pass\n",
    "\n",
    "dad = Parent()\n",
    "son = Child()\n",
    "\n",
    "dad.implicit()\n",
    "son.implicit()\n",
    "print(\"\\n\")\n",
    "\n",
    "#-------------------Override explicitly-------------------------------\n",
    "class Parent(object):\n",
    "    def override(self):\n",
    "        print(\"PARENT override()\")\n",
    "        \n",
    "class Child(Parent):\n",
    "    def override(self):\n",
    "        print(\"CHILD override()\")\n",
    "\n",
    "dad = Parent()\n",
    "son = Child()\n",
    "\n",
    "dad.override()\n",
    "son.override()\n",
    "print(\"\\n\")\n",
    "\n",
    "#----------------Alter Before or After-----------------------------------\n",
    "\n",
    "class Parent(object):\n",
    "    def altered(self):\n",
    "        print(\"PARENT altered()\")\n",
    "        \n",
    "class Child(Parent):\n",
    "    def altered(self):\n",
    "        print(\"CHILD, BEFORE PARENT altered()\")\n",
    "        super(Child, self).altered()\n",
    "        print(\"CHILD, AFTER PARENT altered()\")\n",
    "        \n",
    "dad = Parent()\n",
    "son = Child()\n",
    "\n",
    "dad.altered()\n",
    "son.altered()\n",
    "print(\"\\n\")\n",
    "\n",
    "#-------------super () with __init__------------------------------------\n",
    "\n",
    "class Main(object):\n",
    "    def __init__(self, name):\n",
    "        self.name = name\n",
    "        \n",
    "class sub(Main):\n",
    "    def __init__(self, stuff, name):\n",
    "        self.stuff = stuff\n",
    "        super().__init__(name)\n",
    "\n",
    "b = sub(\"hello\", \"there\")\n",
    "print(\"\\n\")\n",
    "\n",
    "#--------------------------Composition--------------------------------------\n",
    "class Other(object):\n",
    "    def override(self):\n",
    "        print(\"OTHER override()\")\n",
    "    \n",
    "    def implicit(self):\n",
    "        print(\"OTHER implicit()\")\n",
    "        \n",
    "    def altered(self):\n",
    "        print(\"OTHER altered()\")\n",
    "        \n",
    "class Child(object):\n",
    "    def __init__(self):\n",
    "        self.other = Other()\n",
    "        \n",
    "    def implicit(self):\n",
    "        self.other.implicit()\n",
    "    \n",
    "    def override(self):\n",
    "        print(\"CHILD override()\")\n",
    "        \n",
    "    def altered(self):\n",
    "        print(\"CHILD, BEFORE OTHER altered()\")\n",
    "        self.other.altered()\n",
    "        print(\"CHILD, AFTER OTHER altered()\")\n",
    "        \n",
    "son = Child()\n",
    "\n",
    "son.implicit()\n",
    "son.override()\n",
    "son.altered()"
   ]
  },
  {
   "cell_type": "markdown",
   "metadata": {},
   "source": [
    "### 33. Tuples\n",
    "\n",
    "Lists that cannot be modified"
   ]
  },
  {
   "cell_type": "code",
   "execution_count": null,
   "metadata": {},
   "outputs": [],
   "source": [
    "new_tuple = (\"apple\", 1, \"orange\", 123, 13, \"lemon\", \"melon\")\n",
    "print(new_tuple)\n",
    "\n",
    "print(new_tuple[1]) # accessing tuple elements\n",
    "\n",
    "print(new_tuple[-1]) # negative indexing\n",
    "\n",
    "print(new_tuple[2:5]) # range of indices\n",
    "\n",
    "for item in new_tuple:  # iterate through tuple\n",
    "    print(item)\n",
    "\n",
    "if \"apple\" in new_tuple:    # checking if the item exists\n",
    "    print(\"yes, there is an apple inside\")\n",
    "    \n",
    "print(len(new_tuple)) # tuple length\n",
    "\n",
    "second_tuple = (\"hello\",) # create tuple with one element\n",
    "\n",
    "#del second_tuple      # deletes the tuple\n",
    "\n",
    "joined_tuple = new_tuple + second_tuple  # joining two tuples\n",
    "print(joined_tuple)\n",
    "\n",
    "a = tuple((1,3))"
   ]
  },
  {
   "cell_type": "markdown",
   "metadata": {},
   "source": [
    "### 34. Sets\n",
    "\n",
    "A collection which is unordered or unindexed"
   ]
  },
  {
   "cell_type": "code",
   "execution_count": 16,
   "metadata": {},
   "outputs": [
    {
     "name": "stdout",
     "output_type": "stream",
     "text": [
      "{32, 'world', 'hello', 'there', 'here'}\n",
      "32\n",
      "world\n",
      "hello\n",
      "there\n",
      "here\n",
      "{32, 'world', 'hello', 'there', 'here', 'orange'}\n",
      "{32, 'element', 'than', 'one', 'world', 'hello', 'there', 'more', 'here', 'orange'}\n",
      "10\n",
      "{32, 'element', 'than', 'one', 'world', 'hello', 'there', 'here', 'orange'}\n",
      "{'element', 'than', 'one', 'world', 'hello', 'there', 'here', 'orange'}\n",
      "{'element', 'words', 'new', 'inside', 'world', 'here', 'are', 'added', 36, 'than', 45, 'one', 'hello', 'there', 'orange'}\n"
     ]
    }
   ],
   "source": [
    "first_set = {\"hello\", \"world\", 32, \"there\", \"here\", \"here\"} #defining set - multiple entries will be discarded\n",
    "print(first_set)\n",
    "\n",
    "for item in first_set:  # accessing elements inside set\n",
    "    print(item)\n",
    "    \n",
    "first_set.add(\"orange\")  # adding one element to the set\n",
    "print(first_set)\n",
    "\n",
    "first_set.update([\"more\", \"than\", \"one\", \"element\"]) # adding multiple elements\n",
    "print(first_set)\n",
    "\n",
    "print(len(first_set)) # set length\n",
    "\n",
    "# removing elements\n",
    "first_set.remove(\"more\")  # raises exception if the element is not present\n",
    "first_set.discard(\"monish\") # does not raise exceptions\n",
    "print(first_set)\n",
    "\n",
    "first_set.pop() # remove last element\n",
    "\n",
    "second_set = first_set.copy()\n",
    "print(second_set)\n",
    "\n",
    "#second_set.clear() # clears the item inside the set\n",
    "#print(second_set)\n",
    "\n",
    "second_set.update([\"new\", \"words\", \"are\", \"added\", \"inside\", 45, 36])\n",
    "third_set = first_set.union(second_set)\n",
    "print(third_set)\n",
    "\n"
   ]
  },
  {
   "cell_type": "markdown",
   "metadata": {},
   "source": [
    "### 35. Exception Handling\n",
    "\n",
    "https://www.tutorialspoint.com/python/python_exceptions.htm"
   ]
  },
  {
   "cell_type": "code",
   "execution_count": 23,
   "metadata": {},
   "outputs": [
    {
     "name": "stdout",
     "output_type": "stream",
     "text": [
      "cannot import: No module named 'monish'\n",
      "executed\n"
     ]
    }
   ],
   "source": [
    "\n",
    "\n",
    "try:\n",
    "    # add something that python wants to try to execute\n",
    "    import monish\n",
    "    \n",
    "except ImportError as err:\n",
    "    # handle the exception if the try fails\n",
    "    print(\"cannot import:\", err)\n",
    "    \n",
    "finally:\n",
    "    # execute this part finally\n",
    "    import numpy as np\n",
    "    print(\"executed\")\n",
    "    "
   ]
  },
  {
   "cell_type": "markdown",
   "metadata": {},
   "source": [
    "### 36. List Comprehension"
   ]
  },
  {
   "cell_type": "code",
   "execution_count": null,
   "metadata": {},
   "outputs": [],
   "source": []
  },
  {
   "cell_type": "code",
   "execution_count": null,
   "metadata": {},
   "outputs": [],
   "source": []
  }
 ],
 "metadata": {
  "kernelspec": {
   "display_name": "Python 3",
   "language": "python",
   "name": "python3"
  },
  "language_info": {
   "codemirror_mode": {
    "name": "ipython",
    "version": 3
   },
   "file_extension": ".py",
   "mimetype": "text/x-python",
   "name": "python",
   "nbconvert_exporter": "python",
   "pygments_lexer": "ipython3",
   "version": "3.7.6"
  }
 },
 "nbformat": 4,
 "nbformat_minor": 2
}
