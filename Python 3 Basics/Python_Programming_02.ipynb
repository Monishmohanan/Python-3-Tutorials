{
 "cells": [
  {
   "cell_type": "markdown",
   "metadata": {},
   "source": [
    "# Getting started with Python 3"
   ]
  },
  {
   "cell_type": "markdown",
   "metadata": {},
   "source": [
    "### 13. Functions\n",
    "\n",
    "1. They name the piece of code the way variables name strings and numbers\n",
    "\n",
    "2. They take arguments the way our script takes argv\n",
    "\n",
    "3. Using 1 & 2, they let you make your own \"mini-scripts\" or \"tiny commands\"\n",
    "\n",
    "Note: For function names - anything that doesn't start with a number & is letters, numbers and underscores will work"
   ]
  },
  {
   "cell_type": "code",
   "execution_count": null,
   "metadata": {},
   "outputs": [],
   "source": [
    "def print_two(*args):                       # similar to argv\n",
    "    arg1, arg2 = args\n",
    "    print(f\"arg1: {arg1}, arg2: {arg2}\")\n",
    "\n",
    "def print_two_again(arg1, arg2):            # takes 2 arguments\n",
    "    print(\"arg1:\", arg1, \"arg2:\", arg2)\n",
    "\n",
    "def print_one(arg1):                        # takes only 1 argument\n",
    "    print(\"arg1:\", arg1)\n",
    "    \n",
    "def print_none():\n",
    "    print(\"Hello world\")\n",
    "\n",
    "print_two(\"Monish\", \"Mohanan\")\n",
    "print_two_again(\"Hello\", \"there\")\n",
    "print_one(\"Cheese\")\n",
    "print_none()"
   ]
  },
  {
   "cell_type": "markdown",
   "metadata": {},
   "source": [
    "### 14. Functions & Variables"
   ]
  },
  {
   "cell_type": "code",
   "execution_count": null,
   "metadata": {},
   "outputs": [],
   "source": [
    "def cheese_and_crackers(cheese_count, box_of_crackers):\n",
    "    print(f\"You have {cheese_count} cheeses\")\n",
    "    print(f\"You have {box_of_crackers} box of crackers\")\n",
    "\n",
    "print(\"We can just give arguments to the function directly\")\n",
    "cheese_and_crackers(12, 13)\n",
    "\n",
    "print(\"\\nOR we can use variables to from our script\")\n",
    "amount_of_cheese = 10\n",
    "amount_of_crackers = 40\n",
    "\n",
    "cheese_and_crackers(amount_of_cheese, amount_of_crackers)\n",
    "\n",
    "print(\"\\n We can do math inside too..!\")\n",
    "cheese_and_crackers(10+34, 12+55)\n",
    "\n",
    "print(\"\\n And we can combine the two, variables and math\")\n",
    "cheese_and_crackers(amount_of_cheese+100, amount_of_crackers-10)"
   ]
  },
  {
   "cell_type": "markdown",
   "metadata": {},
   "source": [
    "### 15. Functions and Files"
   ]
  },
  {
   "cell_type": "code",
   "execution_count": null,
   "metadata": {},
   "outputs": [],
   "source": [
    "from sys import argv\n",
    "\n",
    "script, input_file = argv\n",
    "\n",
    "def print_all(f):\n",
    "    print(f.read())\n",
    "    \n",
    "def rewind(f):\n",
    "    f.seek(0)\n",
    "    \n",
    "def print_a_line(line_count, f):\n",
    "    print(line_count, f.readline())\n",
    "    \n",
    "current_file = open(input_file)\n",
    "\n",
    "print(\"First let's print the whole file\")\n",
    "print_all(current_file)\n",
    "\n",
    "print(\"\\n Now let us rewind, kind of like a tape\")\n",
    "rewind(current_file)\n",
    "\n",
    "print(\"\\n Let us print three lines:\")\n",
    "\n",
    "current_line = 1\n",
    "print_a_line(current_line, current_file)\n",
    "\n",
    "current_line = current_line + 1\n",
    "print_a_line(current_line, current_file)\n",
    "\n",
    "current_line += 1\n",
    "print_a_line(current_line, current_file)"
   ]
  },
  {
   "cell_type": "markdown",
   "metadata": {},
   "source": [
    "### 16. Functions & Return"
   ]
  },
  {
   "cell_type": "code",
   "execution_count": null,
   "metadata": {},
   "outputs": [],
   "source": [
    "def add(a, b):\n",
    "    print(f\"Adding {a} + {b}\")\n",
    "    return a+b, a*b\n",
    "\n",
    "def subtract(a, b):\n",
    "    print(f\"Subtracting {a} - {b}\")\n",
    "    return a-b\n",
    "\n",
    "def multiply(a, b):\n",
    "    print(f\"Multiplying {a} * {b}\")\n",
    "    return a*b\n",
    "\n",
    "def divide(a, b):\n",
    "    print(f\"Dividing {a} / {b}\")\n",
    "    return a/b\n",
    "\n",
    "print(\"Let us do some math with functions...\")\n",
    "\n",
    "age = add(30, 5)\n",
    "height = subtract(78,4)\n",
    "weight = multiply(90, 2)\n",
    "iq = divide(100, 2)\n",
    "\n",
    "print(f\"Age: {age}, Height: {height}, Weight: {weight}, IQ: {iq}\")\n"
   ]
  },
  {
   "cell_type": "markdown",
   "metadata": {},
   "source": [
    "### 17. Strings, Bytes & Character Encodings"
   ]
  },
  {
   "cell_type": "code",
   "execution_count": null,
   "metadata": {},
   "outputs": [],
   "source": [
    "import sys \n",
    "\n",
    "script, encoding, error = sys.argv\n",
    "\n",
    "\n",
    "def main(language_file, encoding, errors):\n",
    "    line = language_file.readline()\n",
    "    \n",
    "    if line:\n",
    "        print_line(line, encoding, errors)\n",
    "        return main(language_file, encoding, errors)\n",
    "    \n",
    "def print_line(line, encoding, errors):\n",
    "    next_lang = line.strip()\n",
    "    raw_bytes = next_lang.encode(encoding, errors = errors)\n",
    "    cooked_string = raw_bytes.decode(encoding, errors = errors)\n",
    "    \n",
    "    print(raw_bytes, \"<====>\", cooked_string)\n",
    "    \n",
    "languages = open(\"languages.txt\", encoding = \"utf-8\")\n",
    "main(languages, encoding, error)"
   ]
  },
  {
   "cell_type": "markdown",
   "metadata": {},
   "source": [
    "### 18. Practice - 1"
   ]
  },
  {
   "cell_type": "code",
   "execution_count": null,
   "metadata": {},
   "outputs": [],
   "source": [
    "def break_words(stuff):\n",
    "    \"\"\"This function will break up words for us\"\"\"\n",
    "    words = stuff.split(\" \")\n",
    "    return words\n",
    "\n",
    "def sort_words(words):\n",
    "    \"\"\"Sorts the words\"\"\"\n",
    "    return sorted(words)\n",
    "\n",
    "def print_first_word(words):\n",
    "    \"\"\"Prints the first word after popping it off\"\"\"\n",
    "    words = words.pop(0)\n",
    "    print(words)\n",
    "    \n",
    "def print_last_word(words):\n",
    "    \"\"\"Prints the last word after popping it off\"\"\"\n",
    "    word = words.pop(-1)\n",
    "    print(word)\n",
    "    \n",
    "def sort_sentence(sentence):\n",
    "    \"\"\"Takes full sentence and returns the sorted words\"\"\"\n",
    "    words = break_words(sentence)\n",
    "    return sort_words(words)\n",
    "\n",
    "def print_first_and_last(sentence):\n",
    "    \"\"\"Prints first and last words of the sentence\"\"\"\n",
    "    words = break_words(sentence)\n",
    "    print_first_word(words)\n",
    "    print_last_word(words)\n",
    "    \n",
    "def print_first_and_last_sorted(sentence):\n",
    "    \"\"\"Sorts the words and then prints the first and last one\"\"\"\n",
    "    words = sort_sentence(sentence)\n",
    "    print_first_word(words)\n",
    "    print_last_word(words)\n",
    "\n",
    "#--------------------------------In the terminal------------------------------------\n",
    "import script\n",
    "sentence = \"All good things come to those who wait\"\n",
    "words = script.break_words(sentence)\n",
    "words\n",
    "sorted_words = script.sort_words(words)\n",
    "sorted_words\n",
    "script.print_first_word(words)\n",
    "script.print_last_word(words)\n",
    "words\n",
    "script.print_first_word(sorted_words)\n",
    "script.print_last_word(sorted_words)\n",
    "sorted_words\n",
    "sorted_words = script.sort_sentence(sentence)\n",
    "sorted_words\n",
    "script.print_first_and_last(sentence)\n",
    "script.print_first_and_last_sorted(sentence)\n",
    "help(script)\n",
    "words"
   ]
  },
  {
   "cell_type": "markdown",
   "metadata": {},
   "source": [
    "### 19. Boolean Practice"
   ]
  },
  {
   "cell_type": "code",
   "execution_count": null,
   "metadata": {},
   "outputs": [],
   "source": [
    "True and True\n",
    "False and True\n",
    "1==1 and 1==2\n",
    "\"test\" == \"test\"\n",
    "False and 0 != 0\n",
    "\"test\" == \"testing\"\n",
    "not (True and False)\n",
    "not (1==1 and 0 != 1)\n",
    "1 == 1 and (not (\"testing\" == 1 or 1 == 0))"
   ]
  },
  {
   "cell_type": "markdown",
   "metadata": {},
   "source": [
    "### 20. If Statements"
   ]
  },
  {
   "cell_type": "code",
   "execution_count": null,
   "metadata": {},
   "outputs": [],
   "source": [
    "people = 20\n",
    "cats = 30\n",
    "dogs = 15\n",
    "\n",
    "if people < cats:\n",
    "    print(\"Too many cats! The world is doomed..! \")\n",
    "    \n",
    "if people > cats:\n",
    "    print(\"Not many cats! The world is saved..!\")\n",
    "\n",
    "if people < dogs:\n",
    "    print(\"The world is drooled on!\")\n",
    "\n",
    "if people > dogs:\n",
    "    print(\"The world is dry!\")\n",
    "    \n",
    "dogs += 5\n",
    "\n",
    "if people >= dogs:\n",
    "    print(\"People are greater than or equal to dogs.\")\n",
    "    \n",
    "if people <= dogs:\n",
    "    print(\"People are less than or equal to dogs.\")\n",
    "    \n",
    "if people == dogs:\n",
    "    print(\"People are dogs!\")\n"
   ]
  },
  {
   "cell_type": "markdown",
   "metadata": {},
   "source": [
    "### 21. Else and If"
   ]
  },
  {
   "cell_type": "code",
   "execution_count": null,
   "metadata": {},
   "outputs": [],
   "source": [
    "people = 30\n",
    "cars = 40\n",
    "trucks = 15\n",
    "\n",
    "if cars > people:\n",
    "    print(\"We should take the cars.\")\n",
    "elif cars < people:\n",
    "    print(\"we should not take the cars\")\n",
    "else:\n",
    "    print(\"We can't decide\")\n",
    "    \n",
    "if trucks > cars:\n",
    "    print(\"That's too many trucks.\")\n",
    "elif trucks < cars:\n",
    "    print(\"May be we could take the trucks\")\n",
    "else:\n",
    "    print(\"We still can't decide\")\n",
    "    \n",
    "if people > trucks:\n",
    "    print(\"All right let's just take the trucks\")\n",
    "else:\n",
    "    print(\"Fine! Let's stay home then\")"
   ]
  },
  {
   "cell_type": "markdown",
   "metadata": {},
   "source": [
    "### 22. Making Decisions"
   ]
  },
  {
   "cell_type": "code",
   "execution_count": 6,
   "metadata": {},
   "outputs": [
    {
     "name": "stdout",
     "output_type": "stream",
     "text": [
      "You enter a dark room with two doors.\n",
      "Do you go thru door #1 or door #2 ?\n",
      "> 2\n",
      "You stare into the endless abyss at Cthulhu's retina\n",
      "1. Blueberries\n",
      "2. Yellow jacket clothespins\n",
      "3. Understanding revolvers yelling melodies.\n",
      "> 1\n",
      "Your body survives powered by a mind of jello\n",
      "Good job!\n"
     ]
    }
   ],
   "source": [
    "print(\"\"\"You enter a dark room with two doors.\n",
    "Do you go thru door #1 or door #2 ?\"\"\")\n",
    "\n",
    "door = input(\"> \")\n",
    "\n",
    "if door == \"1\":\n",
    "    print(\"There's a giant bear here eating a cheese cake\")\n",
    "    print(\"What do you do?\")\n",
    "    print(\"1. Take the cake\")\n",
    "    print(\"2. Scream at the bear\")\n",
    "    \n",
    "    bear = input(\"> \")\n",
    "    \n",
    "    if bear == \"1\":\n",
    "        print(\"The bear eats your face off. Good job!\")\n",
    "    elif bear == \"2\":\n",
    "        print(\"The bear eats your legs off. Good job!\")\n",
    "    else:\n",
    "        print(f\"Well, doing {bear} is probably better.\")\n",
    "        print(\"Bear runs away...\")\n",
    "\n",
    "elif door == \"2\":\n",
    "    print(\"You stare into the endless abyss at Cthulhu's retina\")\n",
    "    print(\"1. Blueberries\")\n",
    "    print(\"2. Yellow jacket clothespins\")\n",
    "    print(\"3. Understanding revolvers yelling melodies.\")\n",
    "    \n",
    "    insanity = input(\"> \")\n",
    "    \n",
    "    if insanity == \"1\" or insanity == \"2\":\n",
    "        print(\"Your body survives powered by a mind of jello\")\n",
    "        print(\"Good job!\")\n",
    "    else:\n",
    "        print(\"The insanity rots your eyes into a pool of muck\")\n",
    "        print(\"Good job!\")\n",
    "        \n",
    "else:\n",
    "    print(\"You stumble around and fall on a knife and die... Good job!\")\n",
    "        "
   ]
  },
  {
   "cell_type": "markdown",
   "metadata": {},
   "source": [
    "### 23. Loops & Lists\n",
    "\n",
    "Lists: a container of things "
   ]
  },
  {
   "cell_type": "code",
   "execution_count": 12,
   "metadata": {},
   "outputs": [
    {
     "name": "stdout",
     "output_type": "stream",
     "text": [
      "This is count 1\n",
      "This is count 2\n",
      "This is count 3\n",
      "This is count 4\n",
      "This is count 5\n",
      "A fruit of type: apples\n",
      "A fruit of type: oranges\n",
      "A fruit of type: pears\n",
      "A fruit of type: apricots\n",
      "I got 1\n",
      "I got pennies\n",
      "I got 2\n",
      "I got dimes\n",
      "I got 3\n",
      "I got quarters\n",
      "Adding 0 to the list\n",
      "Adding 4 to the list\n",
      "Element was: 0\n",
      "Element was: 4\n"
     ]
    }
   ],
   "source": [
    "the_count = [1, 2, 3, 4, 5]\n",
    "fruits = ['apples', 'oranges', 'pears', 'apricots']\n",
    "change = [1, 'pennies', 2, 'dimes', 3, 'quarters']\n",
    "\n",
    "# this first kind of for-loop goes through a list\n",
    "for number in the_count:\n",
    "    print(f\"This is count {number}\")\n",
    "    \n",
    "# same as above\n",
    "for fruit in fruits:\n",
    "    print(f\"A fruit of type: {fruit}\")\n",
    "\n",
    "# also we can go through mixed list too\n",
    "# notice we have to use {} since we don't know what is in it\n",
    "for i in change:\n",
    "    print(f\"I got {i}\")\n",
    "\n",
    "# we can also build lists, first start with an empty one\n",
    "elements = []\n",
    "\n",
    "# then use the range function to do 0 to 5 counts\n",
    "for i in range(0, 6):\n",
    "    print(f\"Adding {i} to the list\")\n",
    "    # append is a function that list understands\n",
    "    elements.append(i)\n",
    "    \n",
    "# now we can print them out too\n",
    "for i in elements:\n",
    "    print(f\"Element was: {i}\")"
   ]
  },
  {
   "cell_type": "markdown",
   "metadata": {},
   "source": [
    "### 24. While loops"
   ]
  },
  {
   "cell_type": "code",
   "execution_count": 13,
   "metadata": {},
   "outputs": [
    {
     "name": "stdout",
     "output_type": "stream",
     "text": [
      "At the top i is 0\n",
      "Numbers now:  [0]\n",
      "At the bottom i is 1\n",
      "At the top i is 1\n",
      "Numbers now:  [0, 1]\n",
      "At the bottom i is 2\n",
      "At the top i is 2\n",
      "Numbers now:  [0, 1, 2]\n",
      "At the bottom i is 3\n",
      "At the top i is 3\n",
      "Numbers now:  [0, 1, 2, 3]\n",
      "At the bottom i is 4\n",
      "At the top i is 4\n",
      "Numbers now:  [0, 1, 2, 3, 4]\n",
      "At the bottom i is 5\n",
      "At the top i is 5\n",
      "Numbers now:  [0, 1, 2, 3, 4, 5]\n",
      "At the bottom i is 6\n",
      "The numbers: \n",
      "0\n",
      "1\n",
      "2\n",
      "3\n",
      "4\n",
      "5\n"
     ]
    }
   ],
   "source": [
    "i = 0\n",
    "numbers = []\n",
    "\n",
    "while i < 6:\n",
    "    print(f\"At the top i is {i}\")\n",
    "    numbers.append(i)\n",
    "    \n",
    "    i = i + 1\n",
    "    print(\"Numbers now: \", numbers)\n",
    "    print(f\"At the bottom i is {i}\")\n",
    "    \n",
    "print(\"The numbers: \")\n",
    "\n",
    "for num in numbers:\n",
    "    print(num)"
   ]
  },
  {
   "cell_type": "code",
   "execution_count": null,
   "metadata": {},
   "outputs": [],
   "source": []
  }
 ],
 "metadata": {
  "kernelspec": {
   "display_name": "Python 3",
   "language": "python",
   "name": "python3"
  },
  "language_info": {
   "codemirror_mode": {
    "name": "ipython",
    "version": 3
   },
   "file_extension": ".py",
   "mimetype": "text/x-python",
   "name": "python",
   "nbconvert_exporter": "python",
   "pygments_lexer": "ipython3",
   "version": "3.7.6"
  }
 },
 "nbformat": 4,
 "nbformat_minor": 4
}
